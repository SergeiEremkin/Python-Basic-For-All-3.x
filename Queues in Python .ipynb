{
  "cells":[
    {
      "cell_type":"markdown",
      "source":[
        "### List as Queues\n",
        "* It is also possible to use a list as a queue, where the first element added is the first element retrieved (“first-in, first-out”)\n",
        "* however, lists are not efficient for this purpose.\n",
        "* While appends and pops from the end of list are fast, doing inserts or pops from the beginning of a list is slow (because all of the other elements have to be shifted by one).\n",
        "* Deque objects support the following methods:\n",
        "    * append(x)\n",
        "        * Add x to the right side of the deque.\n",
        "    * appendleft(x)\n",
        "        * Add x to the left side of the deque.\n",
        "    * clear()\n",
        "        * Remove all elements from the deque leaving it with length 0.\n",
        "    * copy()\n",
        "        * Create a shallow copy of the deque.\n",
        "    * count(x)\n",
        "        * Count the number of deque elements equal to x.\n",
        "    * extend(iterable)\n",
        "        * Extend the right side of the deque by appending elements from the iterable argument.\n",
        "    * extendleft(iterable)\n",
        "        * Extend the left side of the deque by appending elements from iterable. Note, the series of left appends results in reversing the order of elements in the iterable argument.\n",
        "    * index(x[, start[, stop]])\n",
        "        * Return the position of x in the deque (at or after index start and before index stop). Returns the first match or raises ValueError if not found.\n",
        "    * insert(i, x)\n",
        "        * Insert x into the deque at position i.If the insertion would cause a bounded deque to grow beyond maxlen, an IndexError is raised.\n",
        "    * pop()\n",
        "        * Remove and return an element from the right side of the deque. If no elements are present, raises an IndexError.    \n",
        "    * popleft()\n",
        "        * Remove and return an element from the left side of the deque. If no elements are present, raises an IndexError.\n",
        "    * remove(value)\n",
        "        * Remove the first occurrence of value. If not found, raises a ValueError.\n",
        "    * reverse()\n",
        "        * Reverse the elements of the deque in-place and then return None.\n",
        "    * rotate(n=1)\n",
        "        * Rotate the deque n steps to the right. If n is negative, rotate to the left.When the deque is not empty, rotating one step to the right is equivalent to d.appendleft(d.pop()), and rotating one step to the left is equivalent to d.append(d.popleft()).Deque objects also provide one read-only attribute:\n",
        "    * maxlen\n",
        "        * Maximum size of a deque or None if unbounded."
      ],
      "metadata":{
        
      }
    },
    {
      "cell_type":"code",
      "source":[
        "from collections import deque\n",
        "\n",
        "queue = deque([\"Eric\", \"John\", \"Michael\"])\n",
        "queue"
      ],
      "execution_count":4,
      "outputs":[
        {
          "data":{
            "text\/plain":[
              "deque(['Eric', 'John', 'Michael'])"
            ]
          },
          "metadata":{
            
          },
          "output_type":"display_data"
        }
      ],
      "metadata":{
        
      }
    },
    {
      "cell_type":"code",
      "source":[
        "queue.append(\"Terry\")           # Terry arrives\n",
        "queue.append(\"Graham\")          # Graham arrives\n",
        "queue"
      ],
      "execution_count":5,
      "outputs":[
        {
          "data":{
            "text\/plain":[
              "deque(['Eric', 'John', 'Michael', 'Terry', 'Graham'])"
            ]
          },
          "metadata":{
            
          },
          "output_type":"display_data"
        }
      ],
      "metadata":{
        
      }
    },
    {
      "cell_type":"code",
      "source":[
        "queue.appendleft('hi')\n",
        "queue"
      ],
      "execution_count":6,
      "outputs":[
        {
          "data":{
            "text\/plain":[
              "deque(['hi', 'Eric', 'John', 'Michael', 'Terry', 'Graham'])"
            ]
          },
          "metadata":{
            
          },
          "output_type":"display_data"
        }
      ],
      "metadata":{
        
      }
    },
    {
      "cell_type":"code",
      "source":[
        "q =queue.copy()\n",
        "q"
      ],
      "execution_count":7,
      "outputs":[
        {
          "data":{
            "text\/plain":[
              "deque(['hi', 'Eric', 'John', 'Michael', 'Terry', 'Graham'])"
            ]
          },
          "metadata":{
            
          },
          "output_type":"display_data"
        }
      ],
      "metadata":{
        
      }
    },
    {
      "cell_type":"code",
      "source":[
        "q.clear()\n",
        "q"
      ],
      "execution_count":8,
      "outputs":[
        {
          "data":{
            "text\/plain":[
              "deque([])"
            ]
          },
          "metadata":{
            
          },
          "output_type":"display_data"
        }
      ],
      "metadata":{
        
      }
    },
    {
      "cell_type":"code",
      "source":[
        "queue.count('hi')"
      ],
      "execution_count":9,
      "outputs":[
        {
          "data":{
            "text\/plain":[
              "1"
            ]
          },
          "metadata":{
            
          },
          "output_type":"display_data"
        }
      ],
      "metadata":{
        
      }
    },
    {
      "cell_type":"code",
      "source":[
        "queue.extend(['hi','py','c'])\n",
        "queue"
      ],
      "execution_count":10,
      "outputs":[
        {
          "data":{
            "text\/plain":[
              "deque(['hi', 'Eric', 'John', 'Michael', 'Terry', 'Graham', 'hi', 'py', 'c'])"
            ]
          },
          "metadata":{
            
          },
          "output_type":"display_data"
        }
      ],
      "metadata":{
        
      }
    },
    {
      "cell_type":"code",
      "source":[
        "queue.extendleft(['c','c++','java','Python'])\n",
        "queue"
      ],
      "execution_count":12,
      "outputs":[
        {
          "data":{
            "text\/plain":[
              "deque(['Python',\n",
              "       'java',\n",
              "       'c++',\n",
              "       'c',\n",
              "       'hi',\n",
              "       'Eric',\n",
              "       'John',\n",
              "       'Michael',\n",
              "       'Terry',\n",
              "       'Graham',\n",
              "       'hi',\n",
              "       'py',\n",
              "       'c',\n",
              "       'c',\n",
              "       'c++',\n",
              "       'java',\n",
              "       'Python'])"
            ]
          },
          "metadata":{
            
          },
          "output_type":"display_data"
        }
      ],
      "metadata":{
        
      }
    },
    {
      "cell_type":"code",
      "source":[
        "queue.index('c')"
      ],
      "execution_count":13,
      "outputs":[
        {
          "data":{
            "text\/plain":[
              "3"
            ]
          },
          "metadata":{
            
          },
          "output_type":"display_data"
        }
      ],
      "metadata":{
        
      }
    },
    {
      "cell_type":"code",
      "source":[
        "queue.index(11,\"loss\")"
      ],
      "execution_count":17,
      "outputs":[
        {
          "ename":"TypeError",
          "evalue":"TypeError: slice indices must be integers or have an __index__ method",
          "traceback":[
            "\u001b[0;31m---------------------------------------------------------------------------",
            "Traceback (most recent call last)",
            "    at line 1 in <module>",
            "TypeError: slice indices must be integers or have an __index__ method"
          ],
          "output_type":"error"
        }
      ],
      "metadata":{
        
      }
    },
    {
      "cell_type":"code",
      "source":[
        "queue.pop()\n",
        "queue"
      ],
      "execution_count":18,
      "outputs":[
        {
          "data":{
            "text\/plain":[
              "deque(['Python',\n",
              "       'java',\n",
              "       'c++',\n",
              "       'c',\n",
              "       'hi',\n",
              "       'Eric',\n",
              "       'John',\n",
              "       'Michael',\n",
              "       'Terry',\n",
              "       'Graham',\n",
              "       'hi',\n",
              "       'py',\n",
              "       'c',\n",
              "       'c',\n",
              "       'c++',\n",
              "       'java'])"
            ]
          },
          "metadata":{
            
          },
          "output_type":"display_data"
        }
      ],
      "metadata":{
        
      }
    },
    {
      "cell_type":"code",
      "source":[
        "queue.popleft()\n",
        "queue"
      ],
      "execution_count":19,
      "outputs":[
        {
          "data":{
            "text\/plain":[
              "deque(['java',\n",
              "       'c++',\n",
              "       'c',\n",
              "       'hi',\n",
              "       'Eric',\n",
              "       'John',\n",
              "       'Michael',\n",
              "       'Terry',\n",
              "       'Graham',\n",
              "       'hi',\n",
              "       'py',\n",
              "       'c',\n",
              "       'c',\n",
              "       'c++',\n",
              "       'java'])"
            ]
          },
          "metadata":{
            
          },
          "output_type":"display_data"
        }
      ],
      "metadata":{
        
      }
    },
    {
      "cell_type":"code",
      "source":[
        "queue.remove('c')\n",
        "queue"
      ],
      "execution_count":20,
      "outputs":[
        {
          "data":{
            "text\/plain":[
              "deque(['java',\n",
              "       'c++',\n",
              "       'hi',\n",
              "       'Eric',\n",
              "       'John',\n",
              "       'Michael',\n",
              "       'Terry',\n",
              "       'Graham',\n",
              "       'hi',\n",
              "       'py',\n",
              "       'c',\n",
              "       'c',\n",
              "       'c++',\n",
              "       'java'])"
            ]
          },
          "metadata":{
            
          },
          "output_type":"display_data"
        }
      ],
      "metadata":{
        
      }
    },
    {
      "cell_type":"code",
      "source":[
        "queue.reverse()"
      ],
      "execution_count":21,
      "outputs":[
        
      ],
      "metadata":{
        
      }
    },
    {
      "cell_type":"code",
      "source":[
        "queue.popleft()                 # The first to arrive now leaves\n",
        "\n",
        "queue.popleft()                 # The second to arrive now leaves\n",
        "\n",
        "                           # Remaining queue in order of arrival"
      ],
      "execution_count":23,
      "outputs":[
        {
          "data":{
            "text\/plain":[
              "'c++'"
            ]
          },
          "metadata":{
            
          },
          "output_type":"display_data"
        }
      ],
      "metadata":{
        
      }
    },
    {
      "cell_type":"code",
      "source":[
        "queue"
      ],
      "execution_count":24,
      "outputs":[
        {
          "data":{
            "text\/plain":[
              "deque(['c',\n",
              "       'c',\n",
              "       'py',\n",
              "       'hi',\n",
              "       'Graham',\n",
              "       'Terry',\n",
              "       'Michael',\n",
              "       'John',\n",
              "       'Eric',\n",
              "       'hi',\n",
              "       'c++',\n",
              "       'java'])"
            ]
          },
          "metadata":{
            
          },
          "output_type":"display_data"
        }
      ],
      "metadata":{
        
      }
    },
    {
      "cell_type":"code",
      "source":[
        "queue.rotate()"
      ],
      "execution_count":25,
      "outputs":[
        
      ],
      "metadata":{
        
      }
    },
    {
      "cell_type":"code",
      "source":[
        "queue"
      ],
      "execution_count":26,
      "outputs":[
        {
          "data":{
            "text\/plain":[
              "deque(['java',\n",
              "       'c',\n",
              "       'c',\n",
              "       'py',\n",
              "       'hi',\n",
              "       'Graham',\n",
              "       'Terry',\n",
              "       'Michael',\n",
              "       'John',\n",
              "       'Eric',\n",
              "       'hi',\n",
              "       'c++'])"
            ]
          },
          "metadata":{
            
          },
          "output_type":"display_data"
        }
      ],
      "metadata":{
        
      }
    },
    {
      "cell_type":"code",
      "source":[
        "queue.maxlen()"
      ],
      "execution_count":27,
      "outputs":[
        {
          "ename":"TypeError",
          "evalue":"TypeError: 'NoneType' object is not callable",
          "traceback":[
            "\u001b[0;31m---------------------------------------------------------------------------",
            "Traceback (most recent call last)",
            "    at line 1 in <module>",
            "TypeError: 'NoneType' object is not callable"
          ],
          "output_type":"error"
        }
      ],
      "metadata":{
        
      }
    },
    {
      "cell_type":"code",
      "source":[
        "q = deque([10,20,30,255])\n",
        "q"
      ],
      "execution_count":33,
      "outputs":[
        {
          "data":{
            "text\/plain":[
              "deque([10, 20, 30, 255])"
            ]
          },
          "metadata":{
            
          },
          "output_type":"display_data"
        }
      ],
      "metadata":{
        
      }
    },
    {
      "cell_type":"code",
      "source":[
        
      ],
      "execution_count":0,
      "outputs":[
        
      ],
      "metadata":{
        
      }
    }
  ],
  "metadata":{
    
  },
  "nbformat":4,
  "nbformat_minor":0
}
{
  "cells":[
    {
      "cell_type":"markdown",
      "source":[
        "### Class \n",
        "\n",
        "1. What is Class?\n",
        "   \n",
        "      A Class is **Blue Print**\n",
        "      A Class is an extensible **program-code-template** for **creating objects** and providing **initial values for state (member variables) and implementations of behavior (member functions or methods)**.\n",
        "       A class is a **user defined blueprint or prototype** from which objects are created\n",
        "\n",
        "![](https:\/\/www.progressive.com\/lifelanes\/wp-content\/uploads\/2016\/05\/1200x1200_Car_Care_Checklist_Tile.jpg)"
      ],
      "metadata":{
        
      }
    },
    {
      "cell_type":"code",
      "source":[
        "a = list(range(10))\n",
        "a"
      ],
      "execution_count":1,
      "outputs":[
        {
          "data":{
            "text\/plain":[
              "[0, 1, 2, 3, 4, 5, 6, 7, 8, 9]"
            ]
          },
          "metadata":{
            
          },
          "output_type":"display_data"
        }
      ],
      "metadata":{
        
      }
    },
    {
      "cell_type":"code",
      "source":[
        "type(a)"
      ],
      "execution_count":2,
      "outputs":[
        {
          "data":{
            "text\/plain":[
              "list"
            ]
          },
          "metadata":{
            
          },
          "output_type":"display_data"
        }
      ],
      "metadata":{
        
      }
    },
    {
      "cell_type":"code",
      "source":[
        "print(type(a))"
      ],
      "execution_count":3,
      "outputs":[
        {
          "name":"stdout",
          "text":[
            "<class 'list'>\n"
          ],
          "output_type":"stream"
        }
      ],
      "metadata":{
        
      }
    },
    {
      "cell_type":"code",
      "source":[
        "a.append(10)"
      ],
      "execution_count":4,
      "outputs":[
        
      ],
      "metadata":{
        
      }
    },
    {
      "cell_type":"code",
      "source":[
        "a"
      ],
      "execution_count":5,
      "outputs":[
        {
          "data":{
            "text\/plain":[
              "[0, 1, 2, 3, 4, 5, 6, 7, 8, 9, 10]"
            ]
          },
          "metadata":{
            
          },
          "output_type":"display_data"
        }
      ],
      "metadata":{
        
      }
    },
    {
      "cell_type":"markdown",
      "source":[
        "![](https:\/\/a1autorepairandsmogcheck.com\/wp-content\/uploads\/2019\/02\/car-gt.jpg)\n",
        "2. How to Create a Class?\n",
        "\n",
        "* Class Can Create by using **class keyword**\n",
        "* Calss Name Can Start any name(Varable Rules)"
      ],
      "metadata":{
        
      }
    },
    {
      "cell_type":"code",
      "source":[
        "class My_Class:\n",
        "    \"\"\"\n",
        "    Hear we are Crated a Class which consist of set of attributes\n",
        "\n",
        "    Attributes:\n",
        "\n",
        "    a: integer we pass\n",
        "    b: integer we have pass \n",
        "    c: outcome of a and b\n",
        "\n",
        "    \"\"\"\n",
        "    ## Attribute \/ member variables of class\n",
        "    a = 2 \n",
        "    b = 3\n",
        "    c = a+b\n",
        "    print(\"Addation of two numbers is {}\".format(c))"
      ],
      "execution_count":7,
      "outputs":[
        {
          "name":"stdout",
          "text":[
            "Addation of two numbers is 5\n"
          ],
          "output_type":"stream"
        }
      ],
      "metadata":{
        
      }
    },
    {
      "cell_type":"code",
      "source":[
        "print(a) # "
      ],
      "execution_count":8,
      "outputs":[
        {
          "name":"stdout",
          "text":[
            "[0, 1, 2, 3, 4, 5, 6, 7, 8, 9, 10]\n"
          ],
          "output_type":"stream"
        }
      ],
      "metadata":{
        
      }
    },
    {
      "cell_type":"code",
      "source":[
        "print(My_Class)"
      ],
      "execution_count":9,
      "outputs":[
        {
          "name":"stdout",
          "text":[
            "<class '__main__.My_Class'>\n"
          ],
          "output_type":"stream"
        }
      ],
      "metadata":{
        
      }
    },
    {
      "cell_type":"code",
      "source":[
        "print(__name__)"
      ],
      "execution_count":10,
      "outputs":[
        {
          "name":"stdout",
          "text":[
            "__main__\n"
          ],
          "output_type":"stream"
        }
      ],
      "metadata":{
        
      }
    },
    {
      "cell_type":"code",
      "source":[
        "if __name__ ==\"main\":\n",
        "    print(My_Class())"
      ],
      "execution_count":12,
      "outputs":[
        
      ],
      "metadata":{
        
      }
    },
    {
      "cell_type":"markdown",
      "source":[
        "3. What are different Usage of Class?\n",
        "\n",
        "* In python everything we are calling it as object\n",
        "* Where ever we create we calling all the objects"
      ],
      "metadata":{
        
      }
    },
    {
      "cell_type":"code",
      "source":[
        "class Student:\n",
        "    pass"
      ],
      "execution_count":2,
      "outputs":[
        
      ],
      "metadata":{
        
      }
    },
    {
      "cell_type":"code",
      "source":[
        "print(Student.__name__)"
      ],
      "execution_count":3,
      "outputs":[
        {
          "name":"stdout",
          "text":[
            "Student\n"
          ],
          "output_type":"stream"
        }
      ],
      "metadata":{
        
      }
    },
    {
      "cell_type":"code",
      "source":[
        "Student()"
      ],
      "execution_count":4,
      "outputs":[
        {
          "data":{
            "text\/plain":[
              "<__main__.Student at 0x7f1338108430>"
            ]
          },
          "metadata":{
            
          },
          "output_type":"display_data"
        }
      ],
      "metadata":{
        
      }
    },
    {
      "cell_type":"code",
      "source":[
        "class Student:\n",
        "    schoolName = \"XYZ\"    # Attributes"
      ],
      "execution_count":5,
      "outputs":[
        
      ],
      "metadata":{
        
      }
    },
    {
      "cell_type":"code",
      "source":[
        "Student.schoolName"
      ],
      "execution_count":6,
      "outputs":[
        {
          "data":{
            "text\/plain":[
              "'XYZ'"
            ]
          },
          "metadata":{
            
          },
          "output_type":"display_data"
        }
      ],
      "metadata":{
        
      }
    },
    {
      "cell_type":"code",
      "source":[
        "Student.schoolName = \"ABC School\" # I am Changing the Exsiting value\n",
        "# change attribute value using class name"
      ],
      "execution_count":7,
      "outputs":[
        
      ],
      "metadata":{
        
      }
    },
    {
      "cell_type":"code",
      "source":[
        "Student.schoolName"
      ],
      "execution_count":8,
      "outputs":[
        {
          "data":{
            "text\/plain":[
              "'ABC School'"
            ]
          },
          "metadata":{
            
          },
          "output_type":"display_data"
        }
      ],
      "metadata":{
        
      }
    },
    {
      "cell_type":"code",
      "source":[
        "std = Student() # Now i am Creating an object std "
      ],
      "execution_count":10,
      "outputs":[
        
      ],
      "metadata":{
        
      }
    },
    {
      "cell_type":"code",
      "source":[
        "std.schoolName"
      ],
      "execution_count":11,
      "outputs":[
        {
          "data":{
            "text\/plain":[
              "'ABC School'"
            ]
          },
          "metadata":{
            
          },
          "output_type":"display_data"
        }
      ],
      "metadata":{
        
      }
    },
    {
      "cell_type":"code",
      "source":[
        "std.schoolName = \"My School\""
      ],
      "execution_count":12,
      "outputs":[
        
      ],
      "metadata":{
        
      }
    },
    {
      "cell_type":"code",
      "source":[
        "std.schoolName"
      ],
      "execution_count":13,
      "outputs":[
        {
          "data":{
            "text\/plain":[
              "'My School'"
            ]
          },
          "metadata":{
            
          },
          "output_type":"display_data"
        }
      ],
      "metadata":{
        
      }
    },
    {
      "cell_type":"markdown",
      "source":[
        "### Constructor\n",
        "\n",
        "* Constructor Can Create by using **__init__** which **Self** is Defaukt Paramerter\n",
        "* Constructors are generally used for instantiating an object.\n",
        "* The task of constructors is to **initialize(assign values) to the data members** of the class when an object of class is created.\n",
        "* A constructor can simply be defined as a special type of method or function which can be used to initialize instances of various members in a class.\n",
        "* Type of Constructor\n",
        "    * **Non-parameterized Constructor:** The constructors in Python which have no parametres present is known as a non parameterized constructor.\n",
        "    * **Parameterized Constructor:** A constructor that has a parametre pre defined is known as a parameterized constructor."
      ],
      "metadata":{
        
      }
    },
    {
      "cell_type":"code",
      "source":[
        "class Student_details():\n",
        "    count = 0 # Calss Attribute\n",
        " \n",
        "    def __init__(self,Name):# Constructor\n",
        "        self.Student_name = Name # instance attribute"
      ],
      "execution_count":25,
      "outputs":[
        
      ],
      "metadata":{
        
      }
    },
    {
      "cell_type":"code",
      "source":[
        "Std_1 = Student_details(\"Reddy\")"
      ],
      "execution_count":26,
      "outputs":[
        
      ],
      "metadata":{
        
      }
    },
    {
      "cell_type":"code",
      "source":[
        "Std_1.Student_name"
      ],
      "execution_count":27,
      "outputs":[
        {
          "data":{
            "text\/plain":[
              "'Reddy'"
            ]
          },
          "metadata":{
            
          },
          "output_type":"display_data"
        }
      ],
      "metadata":{
        
      }
    },
    {
      "cell_type":"code",
      "source":[
        "class Employee:\n",
        "\n",
        "\n",
        "    def __init__(self,id,Name): # Constructer\n",
        "\n",
        "        self.emp_id = id   # instance attributes\n",
        "        self.emp_name = Name\n",
        "    \n",
        "    def display_employee_info(self):  # method  what ever Instance attributes we have Have Call in the Display method\n",
        "        print(\"ID: %d Name: %s\"%(self.emp_id,self.emp_name))"
      ],
      "execution_count":36,
      "outputs":[
        
      ],
      "metadata":{
        
      }
    },
    {
      "cell_type":"code",
      "source":[
        "Emp1 = Employee(201,\"Reddy Prasade\")"
      ],
      "execution_count":37,
      "outputs":[
        
      ],
      "metadata":{
        
      }
    },
    {
      "cell_type":"code",
      "source":[
        "Emp1.display_employee_info()"
      ],
      "execution_count":38,
      "outputs":[
        {
          "name":"stdout",
          "text":[
            "ID: 201 Name: Reddy Prasade\n"
          ],
          "output_type":"stream"
        }
      ],
      "metadata":{
        
      }
    },
    {
      "cell_type":"code",
      "source":[
        "li = [10,20,30]\n",
        "li"
      ],
      "execution_count":39,
      "outputs":[
        {
          "data":{
            "text\/plain":[
              "[10, 20, 30]"
            ]
          },
          "metadata":{
            
          },
          "output_type":"display_data"
        }
      ],
      "metadata":{
        
      }
    },
    {
      "cell_type":"code",
      "source":[
        "li1 = li.copy() # With out Prameter\n",
        "li1"
      ],
      "execution_count":47,
      "outputs":[
        {
          "data":{
            "text\/plain":[
              "[10, 20, 30, 25]"
            ]
          },
          "metadata":{
            
          },
          "output_type":"display_data"
        }
      ],
      "metadata":{
        
      }
    },
    {
      "cell_type":"code",
      "source":[
        "li.append(25) # With parameter"
      ],
      "execution_count":40,
      "outputs":[
        
      ],
      "metadata":{
        
      }
    },
    {
      "cell_type":"code",
      "source":[
        "li"
      ],
      "execution_count":41,
      "outputs":[
        {
          "data":{
            "text\/plain":[
              "[10, 20, 30, 25]"
            ]
          },
          "metadata":{
            
          },
          "output_type":"display_data"
        }
      ],
      "metadata":{
        
      }
    },
    {
      "cell_type":"code",
      "source":[
        "class Employee:\n",
        "\n",
        "\n",
        "    def __init__(self,id,Name): # Constructer\n",
        "\n",
        "        self.emp_id = id   # instance attributes\n",
        "        self.emp_name = Name\n",
        "    \n",
        "    def display_employee_info(self):  # method  what ever Instance attributes we have Have Call in the Display method\n",
        "        print(\"ID: %d Name: %s\"%(self.emp_id,self.emp_name))\n",
        "\n",
        "    def add_age(self,age):\n",
        "        print(\"ID: %d Name: %s\"%(self.emp_id,self.emp_name))\n",
        "        print(\"My age is \",age)\n",
        "        "
      ],
      "execution_count":42,
      "outputs":[
        
      ],
      "metadata":{
        
      }
    },
    {
      "cell_type":"code",
      "source":[
        "C1 = Employee(250,\"Python\")"
      ],
      "execution_count":44,
      "outputs":[
        
      ],
      "metadata":{
        
      }
    },
    {
      "cell_type":"code",
      "source":[
        "C1.display_employee_info() # this method with out Parameter"
      ],
      "execution_count":45,
      "outputs":[
        {
          "name":"stdout",
          "text":[
            "ID: 250 Name: Python\n"
          ],
          "output_type":"stream"
        }
      ],
      "metadata":{
        
      }
    },
    {
      "cell_type":"code",
      "source":[
        "C1.add_age(29) # this with Parameter"
      ],
      "execution_count":46,
      "outputs":[
        {
          "name":"stdout",
          "text":[
            "ID: 250 Name: Python\n",
            "My age is  29\n"
          ],
          "output_type":"stream"
        }
      ],
      "metadata":{
        
      }
    },
    {
      "cell_type":"code",
      "source":[
        "class Student:\n",
        "    #Constructor - non parameterized\n",
        "    def __init__(self):\n",
        "        print(\"This is non parametrized constructor\")\n",
        "\n",
        "    def show(self,name):\n",
        "        print(\"Hello\",name)"
      ],
      "execution_count":48,
      "outputs":[
        
      ],
      "metadata":{
        
      }
    },
    {
      "cell_type":"code",
      "source":[
        "student = Student()\n",
        "student.show(\"John\")"
      ],
      "execution_count":49,
      "outputs":[
        {
          "name":"stdout",
          "text":[
            "This is non parametrized constructor\n",
            "Hello John\n"
          ],
          "output_type":"stream"
        }
      ],
      "metadata":{
        
      }
    },
    {
      "cell_type":"code",
      "source":[
        "class Student:\n",
        "    \"\"\"Constructor - non parameterized\"\"\"\n",
        "    def __init__(self,name):\n",
        "        self.name_student = name\n",
        "        print(\"This is parametrized constructor\")\n",
        "\n",
        "    def show(self):\n",
        "        print(\"Hello\",self.name_student)"
      ],
      "execution_count":57,
      "outputs":[
        
      ],
      "metadata":{
        
      }
    },
    {
      "cell_type":"code",
      "source":[
        "student = Student(\"John\")\n",
        "student.show()"
      ],
      "execution_count":58,
      "outputs":[
        {
          "name":"stdout",
          "text":[
            "This is parametrized constructor\n",
            "Hello John\n"
          ],
          "output_type":"stream"
        }
      ],
      "metadata":{
        
      }
    },
    {
      "cell_type":"markdown",
      "source":[
        "- __dict__: By using this you can view the **dictionary** that contains information regarding the class namespace.\n",
        "- __name__: Use this attribute, if you need to view the name of the **current class**.\n",
        "- __doc__: This attribute contains a **string**, which has the documentation for the current class.\n",
        "- __module__: If you need to access the **module** in which the class is defined make use of this inbuilt attribute.\n",
        "- __bases__: If you need to view the tuple which includes all the base classes, then use this function."
      ],
      "metadata":{
        
      }
    },
    {
      "cell_type":"code",
      "source":[
        "student.__dict__"
      ],
      "execution_count":59,
      "outputs":[
        {
          "data":{
            "text\/plain":[
              "{'name_student': 'John'}"
            ]
          },
          "metadata":{
            
          },
          "output_type":"display_data"
        }
      ],
      "metadata":{
        
      }
    },
    {
      "cell_type":"code",
      "source":[
        "student.__str__"
      ],
      "execution_count":60,
      "outputs":[
        {
          "data":{
            "text\/plain":[
              "<method-wrapper '__str__' of Student object at 0x7f13371d2100>"
            ]
          },
          "metadata":{
            
          },
          "output_type":"display_data"
        }
      ],
      "metadata":{
        
      }
    },
    {
      "cell_type":"code",
      "source":[
        "student.__module__"
      ],
      "execution_count":61,
      "outputs":[
        {
          "data":{
            "text\/plain":[
              "'__main__'"
            ]
          },
          "metadata":{
            
          },
          "output_type":"display_data"
        }
      ],
      "metadata":{
        
      }
    },
    {
      "cell_type":"code",
      "source":[
        "student.__doc__"
      ],
      "execution_count":62,
      "outputs":[
        {
          "data":{
            "text\/plain":[
              "'Constructor - non parameterized'"
            ]
          },
          "metadata":{
            
          },
          "output_type":"display_data"
        }
      ],
      "metadata":{
        
      }
    },
    {
      "cell_type":"markdown",
      "source":[
        "### Task:\n",
        "\n",
        "1. Write Code For Student\n",
        "\n",
        "**Input:** \n",
        "Rollno:\n",
        "Semister:\n",
        "\n",
        "**Ouput:**\n",
        "\n",
        "- Display the Student infomation\n",
        "- Subject he\/She is having\n",
        "- marks in Each Subject\n",
        "- Attendence of Student\n",
        "- Dict"
      ],
      "metadata":{
        
      }
    },
    {
      "cell_type":"code",
      "source":[
        "class Student(object):\n",
        "\n",
        "    def __init__(self,name,city):\n",
        "        self.Student_name = name\n",
        "        self.City_name = city\n",
        "\n",
        "    def myfun(self):\n",
        "        print(\"Hello my name is :\",self.Student_name)\n",
        "        print(\"i am From\",self.City_name)"
      ],
      "execution_count":2,
      "outputs":[
        
      ],
      "metadata":{
        
      }
    },
    {
      "cell_type":"code",
      "source":[
        "obj = Student(\"Reddy\",\"Delhi\")"
      ],
      "execution_count":5,
      "outputs":[
        
      ],
      "metadata":{
        
      }
    },
    {
      "cell_type":"code",
      "source":[
        "obj.myfun()"
      ],
      "execution_count":6,
      "outputs":[
        {
          "name":"stdout",
          "text":[
            "Hello my name is : Reddy\n",
            "i am From Delhi\n"
          ],
          "output_type":"stream"
        }
      ],
      "metadata":{
        
      }
    },
    {
      "cell_type":"code",
      "source":[
        "obj.City_name = \"Ban\" # modification of attribute"
      ],
      "execution_count":7,
      "outputs":[
        
      ],
      "metadata":{
        
      }
    },
    {
      "cell_type":"code",
      "source":[
        "obj.myfun()"
      ],
      "execution_count":8,
      "outputs":[
        {
          "name":"stdout",
          "text":[
            "Hello my name is : Reddy\n",
            "i am From Ban\n"
          ],
          "output_type":"stream"
        }
      ],
      "metadata":{
        
      }
    },
    {
      "cell_type":"markdown",
      "source":[
        "### Problem-1\n",
        "\n",
        "Given an array of integers nums and an integer target, return indices of the two numbers such that they add up to target.\n",
        "\n",
        "You may assume that each input would have exactly one solution, and you may not use the same element twice.\n",
        "\n",
        "You can return the answer in any order.\n",
        "\n",
        " \n",
        "\n",
        "**Example 1:**\n",
        "\n",
        "- **Input:** nums = [2,7,11,15], target = 9\n",
        "- **Output:** [0,1]\n",
        "- **Output:** Because nums[0] + nums[1] == 9, we return [0, 1].\n",
        "\n",
        "**Example 2:**\n",
        "\n",
        "- **Input:** nums = [3,2,4], target = 6\n",
        "- **Output:** [1,2]\n",
        "\n",
        "\n",
        "**Example 3:**\n",
        "\n",
        "- **Input:** nums = [3,3], target = 6\n",
        "- **Output:** [0,1]\n",
        " \n",
        "**Constraints:**\n",
        "\n",
        "- 2 <= nums.length <= 103\n",
        "- -109 <= nums[i] <= 109\n",
        "- -109 <= target <= 109\n",
        "- Only one valid answer exists."
      ],
      "metadata":{
        
      }
    },
    {
      "cell_type":"code",
      "source":[
        "class Sum_of_two_number():\n",
        "\n",
        "    def twosum(self,nums,target):\n",
        "        \"\"\"\n",
        "        nums: List[int]\n",
        "        target: int\n",
        "        output: index (Postion)\n",
        "\n",
        "        \"\"\"\n",
        "\n",
        "        h = {}\n",
        "        for i,num in enumerate(nums):\n",
        "            n = target-num\n",
        "\n",
        "            if n not in h:\n",
        "                h[num] = i\n",
        "            else:\n",
        "                return [h[n],i]\n"
      ],
      "execution_count":2,
      "outputs":[
        
      ],
      "metadata":{
        
      }
    },
    {
      "cell_type":"code",
      "source":[
        "obj = Sum_of_two_number()"
      ],
      "execution_count":3,
      "outputs":[
        
      ],
      "metadata":{
        
      }
    },
    {
      "cell_type":"code",
      "source":[
        "obj.twosum([2,7,11,15],9)"
      ],
      "execution_count":4,
      "outputs":[
        {
          "data":{
            "text\/plain":[
              "[0, 1]"
            ]
          },
          "metadata":{
            
          },
          "output_type":"display_data"
        }
      ],
      "metadata":{
        
      }
    },
    {
      "cell_type":"code",
      "source":[
        "obj.twosum([3,2,4],6)"
      ],
      "execution_count":5,
      "outputs":[
        {
          "data":{
            "text\/plain":[
              "[1, 2]"
            ]
          },
          "metadata":{
            
          },
          "output_type":"display_data"
        }
      ],
      "metadata":{
        
      }
    },
    {
      "cell_type":"code",
      "source":[
        "obj.twosum([3,3],6)"
      ],
      "execution_count":6,
      "outputs":[
        {
          "data":{
            "text\/plain":[
              "[0, 1]"
            ]
          },
          "metadata":{
            
          },
          "output_type":"display_data"
        }
      ],
      "metadata":{
        
      }
    },
    {
      "cell_type":"code",
      "source":[
        "li = [5,10,20]\n",
        "for p,v in enumerate(li):\n",
        "    print(p,v)"
      ],
      "execution_count":1,
      "outputs":[
        {
          "name":"stdout",
          "text":[
            "0 5\n",
            "1 10\n",
            "2 20\n"
          ],
          "output_type":"stream"
        }
      ],
      "metadata":{
        
      }
    },
    {
      "cell_type":"code",
      "source":[
        "def twoSum(nums, target):        \n",
        "        temp={}\n",
        "        for i in range(len(nums)):\n",
        "            if nums[i] not in temp:\n",
        "                 temp[nums[i]]=i\n",
        "            if target-nums[i] in temp.keys() and temp[target-nums[i]]!=i:\n",
        "                return [temp[target-nums[i]],i]\n",
        "            else:\n",
        "                if target-nums[i] in temp.keys() and temp[target-nums[i]]!=i:\n",
        "                    return [temp[target-nums[i]],i]"
      ],
      "execution_count":10,
      "outputs":[
        
      ],
      "metadata":{
        
      }
    },
    {
      "cell_type":"code",
      "source":[
        "twoSum([2,7,11,15],9)"
      ],
      "execution_count":11,
      "outputs":[
        {
          "data":{
            "text\/plain":[
              "[0, 1]"
            ]
          },
          "metadata":{
            
          },
          "output_type":"display_data"
        }
      ],
      "metadata":{
        
      }
    },
    {
      "cell_type":"code",
      "source":[
        "twoSum([3,2,4],6)"
      ],
      "execution_count":12,
      "outputs":[
        {
          "data":{
            "text\/plain":[
              "[1, 2]"
            ]
          },
          "metadata":{
            
          },
          "output_type":"display_data"
        }
      ],
      "metadata":{
        
      }
    },
    {
      "cell_type":"code",
      "source":[
        "twoSum([3,3],6)"
      ],
      "execution_count":13,
      "outputs":[
        {
          "data":{
            "text\/plain":[
              "[0, 1]"
            ]
          },
          "metadata":{
            
          },
          "output_type":"display_data"
        }
      ],
      "metadata":{
        
      }
    },
    {
      "cell_type":"code",
      "source":[
        "class Solution(object):\n",
        "    def twoSum(self, nums, target):\n",
        "        \"\"\"\n",
        "        :type nums: List[int]\n",
        "        :type target: int\n",
        "        :rtype: List[int]\n",
        "        \"\"\"\n",
        "        for i,v in enumerate(nums):\n",
        "            try:\n",
        "                k = nums.index(target-v)\n",
        "                if i != k:\n",
        "                    return [i,k]\n",
        "            except:\n",
        "                pass"
      ],
      "execution_count":14,
      "outputs":[
        
      ],
      "metadata":{
        
      }
    },
    {
      "cell_type":"code",
      "source":[
        "ob = Solution()"
      ],
      "execution_count":15,
      "outputs":[
        
      ],
      "metadata":{
        
      }
    },
    {
      "cell_type":"code",
      "source":[
        "ob.twoSum([2,7,11,15],9)"
      ],
      "execution_count":16,
      "outputs":[
        {
          "data":{
            "text\/plain":[
              "[0, 1]"
            ]
          },
          "metadata":{
            
          },
          "output_type":"display_data"
        }
      ],
      "metadata":{
        
      }
    },
    {
      "cell_type":"code",
      "source":[
        "ob.twoSum([3,7,4],11)"
      ],
      "execution_count":17,
      "outputs":[
        {
          "data":{
            "text\/plain":[
              "[1, 2]"
            ]
          },
          "metadata":{
            
          },
          "output_type":"display_data"
        }
      ],
      "metadata":{
        
      }
    },
    {
      "cell_type":"markdown",
      "source":[
        "### Problem-2\n",
        "\n",
        "Add Two Numbers with out using + Operater\n",
        "\n",
        "### Problem-3\n",
        "\n",
        "[\"cat\"]\n",
        "[\"tac\"]"
      ],
      "metadata":{
        
      }
    },
    {
      "cell_type":"code",
      "source":[
        
      ],
      "execution_count":0,
      "outputs":[
        
      ],
      "metadata":{
        
      }
    }
  ],
  "metadata":{
    
  },
  "nbformat":4,
  "nbformat_minor":0
}
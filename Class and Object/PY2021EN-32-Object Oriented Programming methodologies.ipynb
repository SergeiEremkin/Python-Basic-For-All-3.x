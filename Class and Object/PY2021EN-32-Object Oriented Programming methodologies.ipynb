{
  "cells":[
    {
      "cell_type":"markdown",
      "source":[
        "### Oop's Concepts:\n",
        "\n",
        "* The Full form of Object-Oriented Programming \n",
        "    * Where it Can fellow It is a bottom-up approach\n",
        "    * Program is divided into objects\n",
        "    * It is more secure\n",
        "    * Object can move freely within member functions\n",
        "    * It supports inheritance\n",
        "* Methodologies\n",
        "    *  Inheritance\n",
        "    *  Polymorphism\n",
        "    *  Encapsulation\n",
        "    *  Abstraction"
      ],
      "metadata":{
        
      }
    },
    {
      "cell_type":"code",
      "source":[
        "class employee():\n",
        "    \n",
        "    def __init__(self,name,age,ids,salary):\n",
        "        self.emp_name = name\n",
        "        self.emp_age = age\n",
        "        self.emp_salary = salary\n",
        "        self.emp_id = ids"
      ],
      "execution_count":1,
      "outputs":[
        
      ],
      "metadata":{
        
      }
    },
    {
      "cell_type":"code",
      "source":[
        "emp1 = employee(\"Reddy\",29,101,1750000)"
      ],
      "execution_count":2,
      "outputs":[
        
      ],
      "metadata":{
        
      }
    },
    {
      "cell_type":"code",
      "source":[
        "emp1.__dict__"
      ],
      "execution_count":3,
      "outputs":[
        {
          "data":{
            "text\/plain":[
              "{'emp_name': 'Reddy', 'emp_age': 29, 'emp_salary': 1750000, 'emp_id': 101}"
            ]
          },
          "metadata":{
            
          },
          "output_type":"display_data"
        }
      ],
      "metadata":{
        
      }
    },
    {
      "cell_type":"markdown",
      "source":[
        "### Inheritance\n",
        "\n",
        "1. Inheritance is basic concept in Python Oop's because **Parent class** *( Super or Base class)* or **Child class** *(Subclass or Derived class )*\n",
        "2. Inheritance allows us to inherit attributes and methods,properties from the base\/parent class.\n",
        "3. we can create sub-classes and get all of the functionality from our parent class.\n",
        "4. Then we can overwrite and add new functionalities without affecting the parent class.\n",
        "5. A class which inherits the properties is known as Child Class whereas a class whose properties are inherited is known as Parent class.\n",
        "6. Type of Inheritance\n",
        "    1. Single Inheritance\n",
        "    2. Multilevel Inheritance\n",
        "    3. Hierarchical Inheritance\n",
        "    4. Multiple inheritances"
      ],
      "metadata":{
        
      }
    },
    {
      "cell_type":"markdown",
      "source":[
        "#### Single Inheritance:\n",
        "\n",
        "- Single level inheritance enables a derived class to inherit characteristics from a single parent class.\n",
        "- One Parrent Class Can inherit the poperty of Child Class is called Single inheritance.\n",
        "\n",
        "\n",
        "\n",
        "**Parent Class** Car\n",
        "      |\n",
        "      |\n",
        "      V\n",
        "    * BMW Class Name\n",
        "        *  Speed of Car - 450 Kmph \n",
        "        *  feature - Automatic_Start,ABS\n",
        "\n",
        "**Child Class**\n",
        "        |\n",
        "        |\n",
        "        V\n",
        "    * Honda Child Class Name\n",
        "        * Speed of Car - 250 Kmph\n",
        "        * feature - ABS"
      ],
      "metadata":{
        
      }
    },
    {
      "cell_type":"code",
      "source":[
        "# This is My parrent Class\n",
        "class BMW():\n",
        "\n",
        "    def __init__(self,Model,Spead,Mil):\n",
        "\n",
        "        self.bmw_Model = Model\n",
        "        self.bmw_Spead = Spead\n",
        "        self.Mil = Mil\n",
        "    \n",
        "    def features(self):\n",
        "        print(\"Car Model {},Car Spead {} Car Milage {}\".format(self.bmw_Model,self.bmw_Spead,self.Mil))\n",
        "  \n",
        "        Automatic_Start = input(\"Bmw has Automatic Start:\")\n",
        "        abs = input(\"Bms has Automatic Brack System:\")\n",
        "        print(\"We Got Feature In BMW\")\n",
        "\n",
        "    def cost_bmw(self,cost):\n",
        "        print(\"Cost of BMW Car=\",cost)\n",
        "\n",
        "class audi(BMW):\n",
        "\n",
        "    def __init__(self,Model,Spead,Mil):\n",
        "\n",
        "        self.bmw_Model = Model\n",
        "        self.bmw_Spead = Spead\n",
        "        self.Mil = Mil"
      ],
      "execution_count":5,
      "outputs":[
        
      ],
      "metadata":{
        
      }
    },
    {
      "cell_type":"code",
      "source":[
        "obj = BMW(2021,350,25)"
      ],
      "execution_count":6,
      "outputs":[
        
      ],
      "metadata":{
        
      }
    },
    {
      "cell_type":"code",
      "source":[
        "obj.features()"
      ],
      "execution_count":7,
      "outputs":[
        {
          "name":"stdout",
          "text":[
            "Car Model 2021,Car Spead 350 Car Milage 25\n",
            "Bmw has Automatic Start: yes\n",
            "Bms has Automatic Brack System: yes\n",
            "We Got Feature In BMW\n"
          ],
          "output_type":"stream"
        }
      ],
      "metadata":{
        
      }
    },
    {
      "cell_type":"code",
      "source":[
        "obj.cost_bmw(2.5)"
      ],
      "execution_count":8,
      "outputs":[
        {
          "name":"stdout",
          "text":[
            "Cost of BMW Car= 2.5\n"
          ],
          "output_type":"stream"
        }
      ],
      "metadata":{
        
      }
    },
    {
      "cell_type":"code",
      "source":[
        "child_object = audi(2021,250,25)"
      ],
      "execution_count":9,
      "outputs":[
        
      ],
      "metadata":{
        
      }
    },
    {
      "cell_type":"code",
      "source":[
        "child_object.cost_bmw(750)"
      ],
      "execution_count":11,
      "outputs":[
        {
          "name":"stdout",
          "text":[
            "Cost of BMW Car= 750\n"
          ],
          "output_type":"stream"
        }
      ],
      "metadata":{
        
      }
    },
    {
      "cell_type":"code",
      "source":[
        "child_object.features()"
      ],
      "execution_count":12,
      "outputs":[
        {
          "name":"stdout",
          "text":[
            "Car Model 2021,Car Spead 250 Car Milage 25\n",
            "Bmw has Automatic Start: no\n",
            "Bms has Automatic Brack System: yes\n",
            "We Got Feature In BMW\n"
          ],
          "output_type":"stream"
        }
      ],
      "metadata":{
        
      }
    },
    {
      "cell_type":"code",
      "source":[
        "del child_object"
      ],
      "execution_count":13,
      "outputs":[
        
      ],
      "metadata":{
        
      }
    },
    {
      "cell_type":"code",
      "source":[
        "child_object.bmw_Model"
      ],
      "execution_count":14,
      "outputs":[
        {
          "ename":"NameError",
          "evalue":"NameError: name 'child_object' is not defined",
          "traceback":[
            "\u001b[0;31m---------------------------------------------------------------------------",
            "Traceback (most recent call last)",
            "    at line 1 in <module>",
            "NameError: name 'child_object' is not defined"
          ],
          "output_type":"error"
        }
      ],
      "metadata":{
        
      }
    },
    {
      "cell_type":"code",
      "source":[
        "audi.bmw_Model"
      ],
      "execution_count":17,
      "outputs":[
        {
          "ename":"AttributeError",
          "evalue":"AttributeError: type object 'audi' has no attribute 'bmw_Model'",
          "traceback":[
            "\u001b[0;31m---------------------------------------------------------------------------",
            "Traceback (most recent call last)",
            "    at line 1 in <module>",
            "AttributeError: type object 'audi' has no attribute 'bmw_Model'"
          ],
          "output_type":"error"
        }
      ],
      "metadata":{
        
      }
    },
    {
      "cell_type":"code",
      "source":[
        "obj.bmw_Model"
      ],
      "execution_count":18,
      "outputs":[
        {
          "data":{
            "text\/plain":[
              "2021"
            ]
          },
          "metadata":{
            
          },
          "output_type":"display_data"
        }
      ],
      "metadata":{
        
      }
    },
    {
      "cell_type":"code",
      "source":[
        "duplicate_child_obj = audi(2022,750,25)"
      ],
      "execution_count":19,
      "outputs":[
        
      ],
      "metadata":{
        
      }
    },
    {
      "cell_type":"code",
      "source":[
        "duplicate_child_obj.bmw_Model"
      ],
      "execution_count":20,
      "outputs":[
        {
          "data":{
            "text\/plain":[
              "2022"
            ]
          },
          "metadata":{
            
          },
          "output_type":"display_data"
        }
      ],
      "metadata":{
        
      }
    },
    {
      "cell_type":"code",
      "source":[
        "duplicate_child_obj.features()"
      ],
      "execution_count":21,
      "outputs":[
        {
          "name":"stdout",
          "text":[
            "Car Model 2022,Car Spead 750 Car Milage 25\n",
            "Bmw has Automatic Start: y\n",
            "Bms has Automatic Brack System: y\n",
            "We Got Feature In BMW\n"
          ],
          "output_type":"stream"
        }
      ],
      "metadata":{
        
      }
    },
    {
      "cell_type":"code",
      "source":[
        "s = 10"
      ],
      "execution_count":27,
      "outputs":[
        
      ],
      "metadata":{
        
      }
    },
    {
      "cell_type":"code",
      "source":[
        "id(s)"
      ],
      "execution_count":28,
      "outputs":[
        {
          "data":{
            "text\/plain":[
              "140082692792928"
            ]
          },
          "metadata":{
            
          },
          "output_type":"display_data"
        }
      ],
      "metadata":{
        
      }
    },
    {
      "cell_type":"code",
      "source":[
        "type(s)"
      ],
      "execution_count":29,
      "outputs":[
        {
          "data":{
            "text\/plain":[
              "int"
            ]
          },
          "metadata":{
            
          },
          "output_type":"display_data"
        }
      ],
      "metadata":{
        
      }
    },
    {
      "cell_type":"code",
      "source":[
        "print(type(s))"
      ],
      "execution_count":30,
      "outputs":[
        {
          "name":"stdout",
          "text":[
            "<class 'int'>\n"
          ],
          "output_type":"stream"
        }
      ],
      "metadata":{
        
      }
    },
    {
      "cell_type":"code",
      "source":[
        "del s"
      ],
      "execution_count":24,
      "outputs":[
        
      ],
      "metadata":{
        
      }
    },
    {
      "cell_type":"code",
      "source":[
        "s"
      ],
      "execution_count":25,
      "outputs":[
        {
          "ename":"NameError",
          "evalue":"NameError: name 's' is not defined",
          "traceback":[
            "\u001b[0;31m---------------------------------------------------------------------------",
            "Traceback (most recent call last)",
            "    at line 1 in <module>",
            "NameError: name 's' is not defined"
          ],
          "output_type":"error"
        }
      ],
      "metadata":{
        
      }
    },
    {
      "cell_type":"code",
      "source":[
        "id(10)"
      ],
      "execution_count":26,
      "outputs":[
        {
          "data":{
            "text\/plain":[
              "140082692792928"
            ]
          },
          "metadata":{
            
          },
          "output_type":"display_data"
        }
      ],
      "metadata":{
        
      }
    },
    {
      "cell_type":"code",
      "source":[
        "type(duplicate_child_obj)"
      ],
      "execution_count":34,
      "outputs":[
        {
          "data":{
            "text\/plain":[
              "__main__.audi"
            ]
          },
          "metadata":{
            
          },
          "output_type":"display_data"
        }
      ],
      "metadata":{
        
      }
    },
    {
      "cell_type":"code",
      "source":[
        "print(type(duplicate_child_obj))"
      ],
      "execution_count":37,
      "outputs":[
        {
          "name":"stdout",
          "text":[
            "<class '__main__.audi'>\n"
          ],
          "output_type":"stream"
        }
      ],
      "metadata":{
        
      }
    },
    {
      "cell_type":"markdown",
      "source":[
        "#### Multilevel Inheritance:\n",
        "Multi-level inheritance enables a derived class to inherit properties from an immediate parent class which in turn inherits properties from his parent class.\n",
        "\n",
        "![](https:\/\/media.geeksforgeeks.org\/wp-content\/uploads\/multi.jpg)\n",
        "\n",
        "* GP--> Dad --> You\n",
        "* Student -> Test --> Marks"
      ],
      "metadata":{
        
      }
    },
    {
      "cell_type":"code",
      "source":[
        "# Base Class \/ Parent Class\n",
        "\n",
        "class Student: # Parent Class\n",
        "\n",
        "    # Method\n",
        "    def getStudent(self):\n",
        "        self.Name = input(\"Please Enter your Name:\") \n",
        "        self.Age  = input(\"Please Enter the Age:\")\n",
        "        self.Gender = input(\"Please Enter the Gender:\")\n",
        "\n",
        "\n",
        "# Def Intermediat Class\n",
        "\n",
        "class Test(Student): # Sub Class\n",
        "\n",
        "\n",
        "    def getMarks(self):\n",
        "\n",
        "        self.Studen_class = input(\"Please Entert he Class:\")\n",
        "        print(\"Enter the marks of the respective subjects\")\n",
        "\n",
        "        self.math = int(input(\"Enter math marks:\"))\n",
        "        self.biology = int(input(\"Enter the biology marks\"))\n",
        "        self.physics = int(input(\"Enter the Physics marks:\"))\n",
        "\n",
        "# Define a class\n",
        "class Marks(Test): # Super Sub Class\n",
        "    def display(self):\n",
        "        print(\"\\n\\nName: \",self.Name)\n",
        "        print(\"Age: \",self.Age)\n",
        "        print(\"Gender: \",self.Gender)\n",
        "        print(\"Study in: \",self.Studen_class)\n",
        "        print(\"Total Marks: \", +self.math + self.biology + self.physics)"
      ],
      "execution_count":53,
      "outputs":[
        
      ],
      "metadata":{
        
      }
    },
    {
      "cell_type":"code",
      "source":[
        "m1 = Marks()"
      ],
      "execution_count":54,
      "outputs":[
        
      ],
      "metadata":{
        
      }
    },
    {
      "cell_type":"code",
      "source":[
        "m1.getStudent()"
      ],
      "execution_count":55,
      "outputs":[
        {
          "name":"stdout",
          "text":[
            "Please Enter your Name: Rani\n",
            "Please Enter the Age: 34\n",
            "Please Enter the Gender: f\n"
          ],
          "output_type":"stream"
        }
      ],
      "metadata":{
        
      }
    },
    {
      "cell_type":"code",
      "source":[
        "m1.getMarks()"
      ],
      "execution_count":56,
      "outputs":[
        {
          "name":"stdout",
          "text":[
            "Please Entert he Class: 4\n",
            "Enter the marks of the respective subjects\n",
            "Enter math marks: 95\n",
            "Enter the biology marks 89\n",
            "Enter the Physics marks: 75\n"
          ],
          "output_type":"stream"
        }
      ],
      "metadata":{
        
      }
    },
    {
      "cell_type":"code",
      "source":[
        "m1.display()"
      ],
      "execution_count":57,
      "outputs":[
        {
          "name":"stdout",
          "text":[
            "\n",
            "\n",
            "Name:  Rani\n",
            "Age:  34\n",
            "Gender:  f\n",
            "Study in:  4\n",
            "Total Marks:  259\n"
          ],
          "output_type":"stream"
        }
      ],
      "metadata":{
        
      }
    },
    {
      "cell_type":"markdown",
      "source":[
        "* Apply Multilevel Inheritance on Below Example\n",
        "\n",
        "![](https:\/\/www.learnbyexample.org\/wp-content\/uploads\/python\/Python-Inheritance-Illustration.png)"
      ],
      "metadata":{
        
      }
    },
    {
      "cell_type":"markdown",
      "source":[
        "### Multiple Inheritance:\n",
        "Multiple level inheritance enables one derived class to inherit properties from more than one base class."
      ],
      "metadata":{
        
      }
    },
    {
      "cell_type":"code",
      "source":[
        "class employee1():#Parent class\n",
        "    def __init__(self, name, age, salary):  \n",
        "        self.name = name\n",
        "        self.age = age\n",
        "        self.salary = salary\n",
        " \n",
        "class employee2():#Parent class\n",
        "    def __init__(self,name,age,salary,id):\n",
        "        self.name = name\n",
        "        self.age = age\n",
        "        self.salary = salary\n",
        "        self.id = id\n",
        " \n",
        "class childemployee(employee1,employee2):\n",
        "    def __init__(self, name, age, salary,id):\n",
        "        self.name = name\n",
        "        self.age = age\n",
        "        self.salary = salary\n",
        "        self.id = id\n",
        "emp1 = employee1('harshit',22,1000)\n",
        "emp2 = employee2('arjun',23,2000,1234)\n",
        " \n",
        "print(emp1.age)\n",
        "print(emp2.id)"
      ],
      "execution_count":13,
      "outputs":[
        {
          "name":"stdout",
          "text":[
            "22\n",
            "1234\n"
          ],
          "output_type":"stream"
        }
      ],
      "metadata":{
        
      }
    },
    {
      "cell_type":"markdown",
      "source":[
        "### Hierarchical Inheritance:\n",
        "\n",
        "* Hierarchical level inheritance enables more than one derived class to inherit properties from a parent class."
      ],
      "metadata":{
        
      }
    },
    {
      "cell_type":"code",
      "source":[
        "class employee():\n",
        "    def __init__(self, name, age, salary):     #Hierarchical Inheritance\n",
        "        self.name = name\n",
        "        self.age = age\n",
        "        self.salary = salary\n",
        " \n",
        "class childemployee1(employee):\n",
        "    def __init__(self,name,age,salary):\n",
        "        self.name = name\n",
        "        self.age = age\n",
        "        self.salary = salary\n",
        "        \n",
        "class childemployee2(employee):\n",
        "    def __init__(self, name, age, salary):\n",
        "        self.name = name\n",
        "        self.age = age\n",
        "        self.salary = salary\n",
        "        \n",
        "emp1 = employee('harshit',22,1000)\n",
        "emp2 = employee('arjun',23,2000)\n",
        " \n",
        "print(emp1.age)\n",
        "print(emp2.age)"
      ],
      "execution_count":10,
      "outputs":[
        {
          "name":"stdout",
          "text":[
            "22\n",
            "23\n"
          ],
          "output_type":"stream"
        }
      ],
      "metadata":{
        
      }
    },
    {
      "cell_type":"markdown",
      "source":[
        "### Polymorphism \n",
        "\n",
        "* We can use the concept of polymorphism while creating class methods as Python allows different classes to have methods with the same name\n",
        "* We can then later generalize calling these methods by disregarding the object we are working with"
      ],
      "metadata":{
        
      }
    },
    {
      "cell_type":"code",
      "source":[
        "class Rabbit():\n",
        "\n",
        "    def age(self):\n",
        "        print(\"This funcation determines the age of rabbit\")\n",
        "    def color(self):\n",
        "        print(\"This function determines the color of Rabbit.\")\n",
        "\n",
        "class Horse():\n",
        "\n",
        "    def age(self):\n",
        "        print(\"This funcation determines the age of Horse\")\n",
        "    def color(self):\n",
        "        print(\"This function determines the color of Horse.\")\n",
        "\n",
        "class dog():\n",
        "    def age(self):\n",
        "        print(\"This funcation determines the age of dog\")\n",
        "    \n",
        "    def color(self):\n",
        "        print(\"This function determines the color of dog.\")"
      ],
      "execution_count":23,
      "outputs":[
        
      ],
      "metadata":{
        
      }
    },
    {
      "cell_type":"code",
      "source":[
        "obj1 = Rabbit() \n",
        "obj2 = Horse() \n",
        "obj3 = dog()"
      ],
      "execution_count":24,
      "outputs":[
        
      ],
      "metadata":{
        
      }
    },
    {
      "cell_type":"code",
      "source":[
        "for type in (obj1,obj2,obj3):\n",
        "    type.age() \n",
        "    type.color() "
      ],
      "execution_count":25,
      "outputs":[
        {
          "name":"stdout",
          "text":[
            "This funcation determines the age of rabbit\n",
            "This function determines the color of Rabbit.\n",
            "This funcation determines the age of Horse\n",
            "This function determines the color of Horse.\n",
            "This funcation determines the age of dog\n",
            "This function determines the color of dog.\n"
          ],
          "output_type":"stream"
        }
      ],
      "metadata":{
        
      }
    },
    {
      "cell_type":"code",
      "source":[
        "class Animal:  ## parent\n",
        "  def typedata(self):  \n",
        "    print(\"Various types of animals\") \n",
        "       \n",
        "  def age(self): \n",
        "    print(\"Age of the animal.\") \n",
        "     \n",
        "class Rabbit(Animal): \n",
        "  def age(self):\n",
        "    age_rabbit = int(input(\"Enter the age rabbit\"))\n",
        "    print(\"Age of rabbit.\",age_rabbit) \n",
        "       \n",
        "class Horse(Animal): \n",
        "  def age(self): \n",
        "    print(\"Age of horse.\") "
      ],
      "execution_count":32,
      "outputs":[
        
      ],
      "metadata":{
        
      }
    },
    {
      "cell_type":"code",
      "source":[
        "obj_animal = Animal() \n",
        "obj_rabbit = Rabbit() \n",
        "obj_horse = Horse() "
      ],
      "execution_count":33,
      "outputs":[
        
      ],
      "metadata":{
        
      }
    },
    {
      "cell_type":"code",
      "source":[
        "obj_animal.typedata()\n",
        "obj_animal.age()\n",
        "obj_rabbit.age()\n",
        "obj_horse.age()"
      ],
      "execution_count":34,
      "outputs":[
        {
          "name":"stdout",
          "text":[
            "Various types of animals\n",
            "Age of the animal.\n",
            "Enter the age rabbit 25\n",
            "Age of rabbit. 25\n",
            "Age of horse.\n"
          ],
          "output_type":"stream"
        }
      ],
      "metadata":{
        
      }
    },
    {
      "cell_type":"markdown",
      "source":[
        "### \n",
        "* Encapsulation is a process of binding data members (variables, properties) and member functions (methods) into a single unit\n",
        "* t is also a way of restricting access to certain properties or components. The best example of encapsulation is a class.\n",
        "\n",
        "![](https:\/\/sunway.edu.np\/wp-content\/uploads\/2020\/09\/image-700x412.png)"
      ],
      "metadata":{
        
      }
    },
    {
      "cell_type":"code",
      "source":[
        "class robot(object):\n",
        "    def __init__(self):\n",
        "        self.a = 123\n",
        "        self.b = 2.5\n",
        "        self.__c = 7.5\n",
        "        self._d = 255.5\n",
        "\n",
        "\n",
        "obj =robot()"
      ],
      "execution_count":55,
      "outputs":[
        
      ],
      "metadata":{
        
      }
    },
    {
      "cell_type":"code",
      "source":[
        "obj.a"
      ],
      "execution_count":56,
      "outputs":[
        {
          "data":{
            "text\/plain":[
              "123"
            ]
          },
          "metadata":{
            
          },
          "output_type":"display_data"
        }
      ],
      "metadata":{
        
      }
    },
    {
      "cell_type":"code",
      "source":[
        "obj.b"
      ],
      "execution_count":57,
      "outputs":[
        {
          "data":{
            "text\/plain":[
              "2.5"
            ]
          },
          "metadata":{
            
          },
          "output_type":"display_data"
        }
      ],
      "metadata":{
        
      }
    },
    {
      "cell_type":"code",
      "source":[
        "obj.__c"
      ],
      "execution_count":58,
      "outputs":[
        {
          "ename":"AttributeError",
          "evalue":"AttributeError: 'robot' object has no attribute '__c'",
          "traceback":[
            "\u001b[0;31m---------------------------------------------------------------------------",
            "Traceback (most recent call last)",
            "    at line 1 in <module>",
            "AttributeError: 'robot' object has no attribute '__c'"
          ],
          "output_type":"error"
        }
      ],
      "metadata":{
        
      }
    },
    {
      "cell_type":"markdown",
      "source":[
        "- **A single underscore:** Private variable, it should not be accessed directly. But nothing stops you from doing that (except convention).\n",
        "- **A double underscore:** Private variable, harder to access but still possible."
      ],
      "metadata":{
        
      }
    },
    {
      "cell_type":"code",
      "source":[
        "obj._d"
      ],
      "execution_count":59,
      "outputs":[
        {
          "data":{
            "text\/plain":[
              "255.5"
            ]
          },
          "metadata":{
            
          },
          "output_type":"display_data"
        }
      ],
      "metadata":{
        
      }
    },
    {
      "cell_type":"code",
      "source":[
        "class robot(object):\n",
        "    def __init__(self):\n",
        "        self.__version = 2.2\n",
        "    \n",
        "    def getversion(self):\n",
        "        print(\"Latest Version of \",self.__version)\n",
        "    \n",
        "    def setvrsion(self,version):\n",
        "        self.__version = version"
      ],
      "execution_count":66,
      "outputs":[
        
      ],
      "metadata":{
        
      }
    },
    {
      "cell_type":"code",
      "source":[
        "obj =robot()"
      ],
      "execution_count":67,
      "outputs":[
        
      ],
      "metadata":{
        
      }
    },
    {
      "cell_type":"code",
      "source":[
        "obj.__version"
      ],
      "execution_count":68,
      "outputs":[
        {
          "ename":"AttributeError",
          "evalue":"AttributeError: 'robot' object has no attribute '__version'",
          "traceback":[
            "\u001b[0;31m---------------------------------------------------------------------------",
            "Traceback (most recent call last)",
            "    at line 1 in <module>",
            "AttributeError: 'robot' object has no attribute '__version'"
          ],
          "output_type":"error"
        }
      ],
      "metadata":{
        
      }
    },
    {
      "cell_type":"code",
      "source":[
        "obj.getversion()"
      ],
      "execution_count":69,
      "outputs":[
        {
          "name":"stdout",
          "text":[
            "Latest Version of  2.2\n"
          ],
          "output_type":"stream"
        }
      ],
      "metadata":{
        
      }
    },
    {
      "cell_type":"code",
      "source":[
        "obj.setvrsion(7.5)"
      ],
      "execution_count":70,
      "outputs":[
        
      ],
      "metadata":{
        
      }
    },
    {
      "cell_type":"code",
      "source":[
        "obj.getversion()"
      ],
      "execution_count":71,
      "outputs":[
        {
          "name":"stdout",
          "text":[
            "Latest Version of  7.5\n"
          ],
          "output_type":"stream"
        }
      ],
      "metadata":{
        
      }
    },
    {
      "cell_type":"markdown",
      "source":[
        "### Abstraction\n",
        "\n",
        "* Abstraction in Python is achieved by using **abstract classes and interfaces**.\n",
        "* An abstract class is a class that generally provides incomplete functionality and contains one or more abstract methods.\n",
        "\n",
        "\n",
        "**Example:**\n",
        "\n",
        "Suppose if you booked a movie ticket for 5 people from bookmyshow using net banking or any other process. You don’t know the procedure of how the pin is generated or how the verification is done. This is called ‘abstraction’ from the programming aspect.\n",
        "\n",
        "* it basically means you only show the implementation details of a particular process and hide the details from the user. It is used to simplify complex problems by modeling classes appropriate to the problem."
      ],
      "metadata":{
        
      }
    },
    {
      "cell_type":"code",
      "source":[
        "from abc import ABC,abstractmethod"
      ],
      "execution_count":72,
      "outputs":[
        
      ],
      "metadata":{
        
      }
    },
    {
      "cell_type":"code",
      "source":[
        "class Payment(ABC):\n",
        "\n",
        "    def print_slip(self,amount):\n",
        "        print(\"Puruchase of amount\",amount)\n",
        "    \n",
        "    @abstractmethod\n",
        "    def payment(self,amount):\n",
        "        pass\n",
        "\n",
        "\n",
        "class CreditCardPayment(Payment):\n",
        "    def payment(self,amount):\n",
        "        print('Credit card payment of- ', amount)\n",
        "\n",
        "class MobileWalletPayment(Payment):\n",
        "    def payment(self,amount):\n",
        "        print('Mobile Wallet payment of- ', amount)"
      ],
      "execution_count":74,
      "outputs":[
        
      ],
      "metadata":{
        
      }
    },
    {
      "cell_type":"code",
      "source":[
        "CCP = CreditCardPayment()\n",
        "CCP.payment(10000)\n",
        "CCP.print_slip(10000)"
      ],
      "execution_count":78,
      "outputs":[
        {
          "name":"stdout",
          "text":[
            "Credit card payment of-  10000\n",
            "Puruchase of amount 10000\n"
          ],
          "output_type":"stream"
        }
      ],
      "metadata":{
        
      }
    },
    {
      "cell_type":"code",
      "source":[
        "print(isinstance(CCP, Payment))"
      ],
      "execution_count":80,
      "outputs":[
        {
          "name":"stdout",
          "text":[
            "True\n"
          ],
          "output_type":"stream"
        }
      ],
      "metadata":{
        
      }
    },
    {
      "cell_type":"code",
      "source":[
        "MWP = MobileWalletPayment()\n",
        "MWP.payment(250)\n",
        "MWP.print_slip(250)"
      ],
      "execution_count":81,
      "outputs":[
        {
          "name":"stdout",
          "text":[
            "Mobile Wallet payment of-  250\n",
            "Puruchase of amount 250\n"
          ],
          "output_type":"stream"
        }
      ],
      "metadata":{
        
      }
    },
    {
      "cell_type":"code",
      "source":[
        "print(isinstance(MWP, Payment))"
      ],
      "execution_count":83,
      "outputs":[
        {
          "name":"stdout",
          "text":[
            "True\n"
          ],
          "output_type":"stream"
        }
      ],
      "metadata":{
        
      }
    },
    {
      "cell_type":"code",
      "source":[
        "class User(ABC):\n",
        "\n",
        "    def __init__(self,name,num_of_months):\n",
        "        self.name = name\n",
        "        self.num_of_months = num_of_months\n",
        "    \n",
        "\n",
        "    def display_user(self):\n",
        "        print(\"User %s Subscribed for %d months\"%(self.name, self.num_of_months))\n",
        "    \n",
        "    @abstractmethod\n",
        "    def process_fee(self):\n",
        "        pass"
      ],
      "execution_count":88,
      "outputs":[
        
      ],
      "metadata":{
        
      }
    },
    {
      "cell_type":"code",
      "source":[
        "class PlatinumUser(User):\n",
        "    platinum_package = 2200\n",
        "\n",
        "    def process_fee(self):\n",
        "        return self.num_of_months * PlatinumUser.platinum_package"
      ],
      "execution_count":89,
      "outputs":[
        
      ],
      "metadata":{
        
      }
    },
    {
      "cell_type":"code",
      "source":[
        "class GoldUser(User):\n",
        "    gold_package = 2200\n",
        "\n",
        "    def process_fee(self):\n",
        "        return self.num_of_months * GoldUser.gold_package"
      ],
      "execution_count":90,
      "outputs":[
        
      ],
      "metadata":{
        
      }
    },
    {
      "cell_type":"code",
      "source":[
        "P = PlatinumUser(\"Reddy\",8)\n",
        "P.display_user()\n",
        "fee = P.process_fee()\n",
        "print('Fee is', fee)"
      ],
      "execution_count":94,
      "outputs":[
        {
          "name":"stdout",
          "text":[
            "User Reddy Subscribed for 8 months\n",
            "Fee is 17600\n"
          ],
          "output_type":"stream"
        }
      ],
      "metadata":{
        
      }
    },
    {
      "cell_type":"code",
      "source":[
        "G = GoldUser('Goldie',10)\n",
        "G.display_user()\n",
        "fee = G.process_fee()\n",
        "print('Fee is', fee)"
      ],
      "execution_count":95,
      "outputs":[
        {
          "name":"stdout",
          "text":[
            "User Goldie Subscribed for 10 months\n",
            "Fee is 22000\n"
          ],
          "output_type":"stream"
        }
      ],
      "metadata":{
        
      }
    },
    {
      "cell_type":"code",
      "source":[
        
      ],
      "execution_count":null,
      "outputs":[
        
      ],
      "metadata":{
        
      }
    }
  ],
  "metadata":{
    
  },
  "nbformat":4,
  "nbformat_minor":0
}
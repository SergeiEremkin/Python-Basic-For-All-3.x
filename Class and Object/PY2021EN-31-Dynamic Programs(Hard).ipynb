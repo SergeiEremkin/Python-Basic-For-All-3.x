{
  "cells":[
    {
      "cell_type":"markdown",
      "source":[
        "## Problem-1:\n",
        "\n",
        "Given two sorted arrays nums1 and nums2 of size m and n respectively, return the median of the two sorted arrays.\n",
        "\n",
        "#### Example 1:\n",
        "\n",
        "- *Input:* nums1 = [1,3], nums2 = [2]\n",
        "- *Output:* 2.00000\n",
        "- *Explanation:* merged array = [1,2,3] and median is 2.\n",
        "\n",
        "#### Example 2:\n",
        "\n",
        "- *Input:* nums1 = [1,2], \n",
        "            nums2 = [3,4]\n",
        "- *Output:* 2.50000\n",
        "- *Explanation:* merged array = [1,2,3,4] and median is (2 + 3) \/ 2 = 2.5.\n",
        "\n",
        "#### Example 3:\n",
        "\n",
        "*Input:* nums1 = [0,0], nums2 = [0,0]\n",
        "*Output:* 0.00000\n",
        "\n",
        "#### Example 4:\n",
        "\n",
        "*Input:* nums1 = [], nums2 = [1]\n",
        "*Output:* 1.00000\n",
        "\n",
        "#### Example 5:\n",
        "\n",
        "*Input:* nums1 = [2], nums2 = []\n",
        "*Output:* 2.00000\n",
        "\n",
        "**Constraints:**\n",
        "\n",
        "- nums1.length == m\n",
        "- nums2.length == n\n",
        "- 0 <= m <= 1000\n",
        "- 0 <= n <= 1000\n",
        "- 1 <= m + n <= 2000\n",
        "- -106 <= nums1[i], nums2[i] <= 106"
      ],
      "metadata":{
        
      }
    },
    {
      "cell_type":"code",
      "source":[
        "class find_Median_Sorted_Arrays(object):\n",
        "\n",
        "    def find_median_and_sort_array_merged_array(self,num1,num2):\n",
        "        \"\"\"\n",
        "        :type nums1: List[int]\n",
        "        :type nums2: List[int]\n",
        "        :rtype: float\n",
        "        \"\"\"\n",
        "        nums = num1+num2 # 1+1 = 2\n",
        "        index = len(nums) # 1\n",
        "        nums = sorted(nums) \n",
        "\n",
        "        if index%2==0: # 1\/2==0  0.5==0\n",
        "            index =index\/2\n",
        "            return (nums[index-1]+nums[index])\/2.0\n",
        "        else:\n",
        "            index=index\/2\n",
        "    \n",
        "    \n",
        "        return float(nums[int(index)])"
      ],
      "execution_count":10,
      "outputs":[
        
      ],
      "metadata":{
        
      }
    },
    {
      "cell_type":"code",
      "source":[
        "0.5==0"
      ],
      "execution_count":11,
      "outputs":[
        {
          "data":{
            "text\/plain":[
              "False"
            ]
          },
          "metadata":{
            
          },
          "output_type":"display_data"
        }
      ],
      "metadata":{
        
      }
    },
    {
      "cell_type":"code",
      "source":[
        "obj = find_Median_Sorted_Arrays()"
      ],
      "execution_count":12,
      "outputs":[
        
      ],
      "metadata":{
        
      }
    },
    {
      "cell_type":"code",
      "source":[
        "obj.find_median_and_sort_array_merged_array([1,3],[2])"
      ],
      "execution_count":13,
      "outputs":[
        {
          "data":{
            "text\/plain":[
              "2.0"
            ]
          },
          "metadata":{
            
          },
          "output_type":"display_data"
        }
      ],
      "metadata":{
        
      }
    },
    {
      "cell_type":"code",
      "source":[
        "class Solution:\n",
        "    # @param {integer[]} nums1\n",
        "    # @param {integer[]} nums2\n",
        "    # @return {float}\n",
        "    def find(self, nums1, s1, e1, nums2, s2, e2, k):\n",
        "        if e1 - s1 < 0:\n",
        "            return nums2[k + s2]\n",
        "        if e2 - s2 < 0:\n",
        "            return nums1[k + s1]\n",
        "        if k < 1:\n",
        "            return min(nums1[k + s1], nums2[k + s2])\n",
        "        ia, ib = (s1 + e1) \/\/ 2 , (s2 + e2) \/\/ 2\n",
        "        ma, mb = nums1[ia], nums2[ib]\n",
        "        if (ia - s1) + (ib - s2) < k:\n",
        "            if ma > mb:\n",
        "                return self.find(nums1, s1, e1, nums2, ib + 1, e2, k - (ib - s2) - 1)\n",
        "            else:\n",
        "                return self.find(nums1, ia + 1, e1, nums2, s2, e2, k - (ia - s1) - 1)\n",
        "        else:\n",
        "            if ma > mb:\n",
        "                return self.find(nums1, s1, ia - 1, nums2, s2, e2, k)\n",
        "            else:\n",
        "                return self.find(nums1, s1, e1, nums2, s2, ib - 1, k)\n",
        "\n",
        "    def findMedianSortedArrays(self, nums1, nums2):\n",
        "        l = len(nums1) + len(nums2)\n",
        "        if l % 2 == 1:\n",
        "            return self.find(nums1, 0, len(nums1) - 1, nums2, 0, len(nums2) - 1, l \/\/ 2)\n",
        "        else:\n",
        "            return (self.find(nums1, 0, len(nums1) - 1, nums2, 0, len(nums2) - 1, l \/\/ 2) + self.find(nums1, 0, len(nums1) - 1, nums2, 0, len(nums2) - 1, l \/\/ 2 - 1)) \/ 2.0"
      ],
      "execution_count":15,
      "outputs":[
        
      ],
      "metadata":{
        
      }
    },
    {
      "cell_type":"code",
      "source":[
        "o = Solution()"
      ],
      "execution_count":16,
      "outputs":[
        
      ],
      "metadata":{
        
      }
    },
    {
      "cell_type":"code",
      "source":[
        "o.findMedianSortedArrays([1,3],[2])"
      ],
      "execution_count":18,
      "outputs":[
        {
          "data":{
            "text\/plain":[
              "2"
            ]
          },
          "metadata":{
            
          },
          "output_type":"display_data"
        }
      ],
      "metadata":{
        
      }
    },
    {
      "cell_type":"code",
      "source":[
        "o.findMedianSortedArrays([1,3,4],[2])"
      ],
      "execution_count":20,
      "outputs":[
        {
          "data":{
            "text\/plain":[
              "2.5"
            ]
          },
          "metadata":{
            
          },
          "output_type":"display_data"
        }
      ],
      "metadata":{
        
      }
    },
    {
      "cell_type":"code",
      "source":[
        
      ],
      "execution_count":0,
      "outputs":[
        
      ],
      "metadata":{
        
      }
    }
  ],
  "metadata":{
    
  },
  "nbformat":4,
  "nbformat_minor":0
}